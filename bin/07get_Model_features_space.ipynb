{
 "cells": [
  {
   "cell_type": "code",
   "execution_count": 1,
   "metadata": {},
   "outputs": [],
   "source": [
    "import sys\n",
    "import os\n",
    "os.chdir(\"/home/wangshiyu/Projects/RoseTTAFold-All-Atom\")"
   ]
  },
  {
   "cell_type": "code",
   "execution_count": 25,
   "metadata": {},
   "outputs": [],
   "source": [
    "from biopandas.pdb import PandasPdb\n",
    "\n",
    "data_TCR_2BNU = PandasPdb().read_pdb(\"./outputs/TCR/TCR_protein_2BNU/TCR_protein_2BNU.pdb\")\n",
    "df_TCR_2BNU = data_TCR_2BNU.df['ATOM']"
   ]
  },
  {
   "cell_type": "code",
   "execution_count": 26,
   "metadata": {},
   "outputs": [
    {
     "ename": "SyntaxError",
     "evalue": "unterminated string literal (detected at line 1) (3878498784.py, line 1)",
     "output_type": "error",
     "traceback": [
      "\u001b[0;36m  Cell \u001b[0;32mIn[26], line 1\u001b[0;36m\u001b[0m\n\u001b[0;31m    data_TCR_4WW1 = PandasPdb().read_pdb(\"./outputs/TCR//TCR_protein_4WW1/TCR_protein_4WW1.pdb)\u001b[0m\n\u001b[0m                                         ^\u001b[0m\n\u001b[0;31mSyntaxError\u001b[0m\u001b[0;31m:\u001b[0m unterminated string literal (detected at line 1)\n"
     ]
    }
   ],
   "source": [
    "data_TCR_4WW1 = PandasPdb().read_pdb(\"./outputs/TCR//TCR_protein_4WW1/TCR_protein_4WW1.pdb\")\n",
    "df_TCR_4WW1 = data_TCR_4WW1.df['ATOM']"
   ]
  }
 ],
 "metadata": {
  "kernelspec": {
   "display_name": "new_env",
   "language": "python",
   "name": "python3"
  },
  "language_info": {
   "codemirror_mode": {
    "name": "ipython",
    "version": 3
   },
   "file_extension": ".py",
   "mimetype": "text/x-python",
   "name": "python",
   "nbconvert_exporter": "python",
   "pygments_lexer": "ipython3",
   "version": "3.10.13"
  }
 },
 "nbformat": 4,
 "nbformat_minor": 2
}
